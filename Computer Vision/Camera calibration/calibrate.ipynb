{
  "nbformat": 4,
  "nbformat_minor": 0,
  "metadata": {
    "kernelspec": {
      "display_name": "Python 3",
      "language": "python",
      "name": "python3"
    },
    "language_info": {
      "codemirror_mode": {
        "name": "ipython",
        "version": 3
      },
      "file_extension": ".py",
      "mimetype": "text/x-python",
      "name": "python",
      "nbconvert_exporter": "python",
      "pygments_lexer": "ipython3",
      "version": "3.7.3"
    },
    "colab": {
      "name": "Untitled.ipynb",
      "provenance": []
    }
  },
  "cells": [
    {
      "cell_type": "code",
      "metadata": {
        "id": "mVXulsFcuL7N"
      },
      "source": [
        "\n",
        "import numpy as np\n",
        "import matplotlib\n",
        "import matplotlib.pyplot as plt\n",
        "%matplotlib inline\n",
        "from PIL import Image\n",
        "matplotlib.use('TkAgg')\n",
        "im = Image.open('stereo2012a.jpg')\n",
        "fig, ax = plt.subplots()\n",
        "ax.imshow(im)\n",
        "uv = plt.ginput(6)"
      ],
      "execution_count": null,
      "outputs": []
    },
    {
      "cell_type": "code",
      "metadata": {
        "id": "A_NR4ukjuL7R"
      },
      "source": [
        "xyz = [[0,28,7],[0,21,14],\n",
        "      [7,28,0],[14,21,0],\n",
        "      [7,0,7],[14,0,14]]\n",
        "# xyz = [[7,0,28],[14,0,21],\n",
        "#       [0,7,28],[0,14,21],\n",
        "#       [7,7,0],[14,14,0]]"
      ],
      "execution_count": null,
      "outputs": []
    },
    {
      "cell_type": "code",
      "metadata": {
        "id": "d_nxXsWhuL7S"
      },
      "source": [
        "def DLT(img, xyz, uv):\n",
        "    \n",
        "    nd = len(img.shape)\n",
        "    n = xyz.shape[0]\n",
        "    \n",
        "    Txyz, xyzn = Normalization(nd, xyz)\n",
        "    Tuv, uvn = Normalization(2, uv)\n",
        "\n",
        "    A = []\n",
        "\n",
        "    for i in range(n):\n",
        "        x, y, z = xyzn[i, 0], xyzn[i, 1], xyzn[i, 2]\n",
        "        u, v = uvn[i, 0], uvn[i, 1]\n",
        "        A.append( [x, y, z, 1, 0, 0, 0, 0, -u * x, -u * y, -u * z, -u] )\n",
        "        A.append( [0, 0, 0, 0, x, y, z, 1, -v * x, -v * y, -v * z, -v] )\n",
        "\n",
        "    # Convert A to array\n",
        "    A = np.asarray(A) \n",
        "\n",
        "    # Find the 11 parameters:\n",
        "    U, S, V = np.linalg.svd(A)\n",
        "\n",
        "    # The parameters are in the last line of Vh and normalize them\n",
        "    L = V[-1, :] / V[-1, -1]\n",
        "\n",
        "    # Camera projection matrix\n",
        "    H = L.reshape(3, nd + 1)\n",
        "    H = np.dot( np.dot( np.linalg.pinv(Tuv), H ), Txyz )\n",
        "\n",
        "    H = H / H[-1, -1]\n",
        "    return(H)\n",
        "\n",
        "def Normalization(nd, x):\n",
        "    '''\n",
        "    Normalization of coordinates (centroid to the origin and mean distance of sqrt(2 or 3).\n",
        "    Input\n",
        "    -----\n",
        "    nd: number of dimensions, 3 here\n",
        "    x: the data to be normalized (directions at different columns and points at rows)\n",
        "    Output\n",
        "    ------\n",
        "    Tr: the transformation matrix (translation plus scaling)\n",
        "    x: the transformed data\n",
        "    '''\n",
        "\n",
        "    x = np.asarray(x)\n",
        "    m, s = np.mean(x, 0), np.std(x)\n",
        "    if nd == 2:\n",
        "        Tr = np.array([[s, 0, m[0]], [0, s, m[1]], [0, 0, 1]])\n",
        "    else:\n",
        "        Tr = np.array([[s, 0, 0, m[0]], [0, s, 0, m[1]], [0, 0, s, m[2]], [0, 0, 0, 1]])\n",
        "        \n",
        "    Tr = np.linalg.inv(Tr)\n",
        "    x = np.dot( Tr, np.concatenate( (x.T, np.ones((1,x.shape[0]))) ) )\n",
        "    x = x[0:nd, :].T\n",
        "\n",
        "    return Tr, x"
      ],
      "execution_count": null,
      "outputs": []
    },
    {
      "cell_type": "code",
      "metadata": {
        "id": "fOuxKK_KuL7T",
        "outputId": "a1cb9929-a52d-466e-9c18-34b187c843c5"
      },
      "source": [
        "C= DLT(np.array(im),np.array(xyz),np.array(uv))"
      ],
      "execution_count": null,
      "outputs": [
        {
          "output_type": "stream",
          "text": [
            "C:\\Users\\yadu k\\Anaconda3\\lib\\site-packages\\ipykernel_launcher.py:32: DeprecationWarning: Non-string object detected for the array ordering. Please pass in 'C', 'F', 'A', or 'K' instead\n"
          ],
          "name": "stderr"
        }
      ]
    },
    {
      "cell_type": "code",
      "metadata": {
        "id": "md6fldWOuL7U"
      },
      "source": [
        "def vgg_rq(S):\n",
        "    S = S.T\n",
        "    [Q,U] = np.linalg.qr(S[::-1,::-1], mode='complete')\n",
        "\n",
        "    Q = Q.T\n",
        "    Q = Q[::-1, ::-1]\n",
        "    U = U.T\n",
        "    U = U[::-1, ::-1]\n",
        "    if np.linalg.det(Q)<0:\n",
        "        U[:,0] = -U[:,0]\n",
        "        Q[0,:] = -Q[0,:]\n",
        "    return U,Q\n",
        "\n",
        "\n",
        "def vgg_KR_from_P(P, noscale = True):\n",
        "    N = P.shape[0]\n",
        "    H = P[:,0:N]\n",
        "    print(N,'|', H)\n",
        "    [K,R] = vgg_rq(H)\n",
        "    if noscale:\n",
        "        K = K / K[N-1,N-1]\n",
        "        if K[0,0] < 0:\n",
        "            D = np.diag([-1, -1, np.ones([1,N-2])]);\n",
        "            K = K @ D\n",
        "            R = D @ R\n",
        "        \n",
        "            test = K*R; \n",
        "            assert (test/test[0,0] - H/H[0,0]).all() <= 1e-07\n",
        "    \n",
        "    t = np.linalg.inv(-P[:,0:N]) @ P[:,-1]\n",
        "    return K, R, t"
      ],
      "execution_count": null,
      "outputs": []
    },
    {
      "cell_type": "code",
      "metadata": {
        "id": "WcypUWpcuL7Y"
      },
      "source": [
        ""
      ],
      "execution_count": null,
      "outputs": []
    }
  ]
}