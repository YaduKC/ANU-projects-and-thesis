{
 "cells": [
  {
   "cell_type": "code",
   "execution_count": 1,
   "metadata": {},
   "outputs": [],
   "source": [
    "import PIL\n",
    "from PIL import Image\n",
    "import matplotlib.pyplot as plt\n",
    "import random\n",
    "import numpy as np\n",
    "from skimage import color"
   ]
  },
  {
   "cell_type": "code",
   "execution_count": 2,
   "metadata": {},
   "outputs": [],
   "source": [
    "#convert 48 bit pepper.png to 24 bit\n",
    "im_48 = Image.open('peppers.png')\n",
    "num_color_shade = 2 ** 24\n",
    "im_24 = im_48.convert( palette=Image.ADAPTIVE, colors=num_color_shade)\n",
    "ds_1 = np.array(im_24)\n",
    "ds_2 = np.array(Image.open('mandm.png'))\n",
    "#im_24.save('24_bit.png')"
   ]
  },
  {
   "cell_type": "code",
   "execution_count": 6,
   "metadata": {},
   "outputs": [],
   "source": [
    "def my_kmeans(ds,k):\n",
    "    max_iter = 4\n",
    "    keys = []\n",
    "    cent = np.zeros((k,ds.shape[2]))\n",
    "    for i in range(k):\n",
    "        cent[i] = random.choice(random.choice(ds))\n",
    "        keys.append(i)\n",
    "    for iter in range(max_iter):\n",
    "        print(iter)\n",
    "        cluster = {k: [] for k in keys}\n",
    "        for i in range(ds.shape[0]):\n",
    "            for j in range(ds.shape[1]):\n",
    "                cp = ds[i,j]\n",
    "                temp_dist = 99999999\n",
    "                counter = 0\n",
    "                index = 0\n",
    "                for k in cent:\n",
    "                    dist = (cp[0]-k[0])**2 + (cp[1]-k[1])**2 + (cp[2]-k[2])**2 + (cp[3]-k[3])**2 + (cp[4]-k[4])**2\n",
    "                    if dist < temp_dist:\n",
    "                        temp_dist = dist\n",
    "                        index = counter\n",
    "                    counter = counter + 1\n",
    "                if iter != max_iter-1:\n",
    "                    cluster[index].append(cp)\n",
    "                else:\n",
    "                    cluster[index].append([i,j])\n",
    "        c_k = cluster.keys()\n",
    "        c = 0\n",
    "        if iter != max_iter-1:\n",
    "            for i in c_k:\n",
    "                m = np.mean(cluster[i],axis = 0)\n",
    "                cent[c] = m\n",
    "                c += 1\n",
    "                \n",
    "    for i in c_k:\n",
    "        for j in cluster[i]:\n",
    "            ds[j[0],j[1]] = cent[i].astype('int')\n",
    "                \n",
    "    #plt.imshow(ds)\n",
    "        \n",
    "    return ds"
   ]
  },
  {
   "cell_type": "code",
   "execution_count": 4,
   "metadata": {},
   "outputs": [
    {
     "name": "stdout",
     "output_type": "stream",
     "text": [
      "0\n",
      "1\n",
      "2\n",
      "3\n",
      "4\n"
     ]
    },
    {
     "data": {
      "text/plain": [
       "<matplotlib.image.AxesImage at 0x27662472f98>"
      ]
     },
     "execution_count": 4,
     "metadata": {},
     "output_type": "execute_result"
    },
    {
     "data": {
      "image/png": "[encoded data removed]",
      "text/plain": [
       "<Figure size 432x288 with 1 Axes>"
      ]
     },
     "metadata": {
      "needs_background": "light"
     },
     "output_type": "display_data"
    }
   ],
   "source": [
    "lab = color.rgb2lab(ds_1) #convert rgb to lab\n",
    "ax = np.zeros(shape = (lab.shape[0],lab.shape[1],5)) #create empty array with 5 dimension\n",
    "\n",
    "#fill ax with l, a, b, x, and y features\n",
    "for i in range(ax.shape[0]):\n",
    "    for j in range(ax.shape[1]):\n",
    "        ax[i,j,0] = lab[i,j,0]\n",
    "        ax[i,j,1] = lab[i,j,1]\n",
    "        ax[i,j,2] = lab[i,j,2]\n",
    "        ax[i,j,3] = i;\n",
    "        ax[i,j,4] = j;\n",
    "        \n",
    "d5 = my_kmeans(ax,25)\n",
    "\n",
    "#extract l, a, and b from 5d matrix returned by function\n",
    "ax1 = np.zeros(shape = (lab.shape[0],lab.shape[1],3))\n",
    "for i in range(ax1.shape[0]):\n",
    "    for j in range(ax1.shape[1]):\n",
    "        ax1[i,j,0] = d5[i,j,0]\n",
    "        ax1[i,j,1] = d5[i,j,1]\n",
    "        ax1[i,j,2] = d5[i,j,2]\n",
    "        \n",
    "plt.imshow(color.lab2rgb(ax1)) #convert lab to rgb and display"
   ]
  },
  {
   "cell_type": "code",
   "execution_count": 5,
   "metadata": {},
   "outputs": [
    {
     "data": {
      "text/plain": [
       "array([[[ 22.,  16.,  -6.,  77.,  68.],\n",
       "        [ 22.,  16.,  -6.,  77.,  68.],\n",
       "        [ 22.,  16.,  -6.,  77.,  68.],\n",
       "        ...,\n",
       "        [ 21.,  18.,  -8.,  43., 389.],\n",
       "        [ 21.,  18.,  -8.,  43., 389.],\n",
       "        [ 21.,  18.,  -8.,  43., 389.]],\n",
       "\n",
       "       [[ 22.,  16.,  -6.,  77.,  68.],\n",
       "        [ 22.,  16.,  -6.,  77.,  68.],\n",
       "        [ 22.,  16.,  -6.,  77.,  68.],\n",
       "        ...,\n",
       "        [ 21.,  18.,  -8.,  43., 389.],\n",
       "        [ 21.,  18.,  -8.,  43., 389.],\n",
       "        [ 21.,  18.,  -8.,  43., 389.]],\n",
       "\n",
       "       [[ 22.,  16.,  -6.,  77.,  68.],\n",
       "        [ 22.,  16.,  -6.,  77.,  68.],\n",
       "        [ 22.,  16.,  -6.,  77.,  68.],\n",
       "        ...,\n",
       "        [ 21.,  18.,  -8.,  43., 389.],\n",
       "        [ 21.,  18.,  -8.,  43., 389.],\n",
       "        [ 21.,  18.,  -8.,  43., 389.]],\n",
       "\n",
       "       ...,\n",
       "\n",
       "       [[ 44.,  31.,  37., 238.,  89.],\n",
       "        [ 44.,  31.,  37., 238.,  89.],\n",
       "        [ 44.,  31.,  37., 238.,  89.],\n",
       "        ...,\n",
       "        [ 34.,  24.,   0., 311., 408.],\n",
       "        [ 34.,  24.,   0., 311., 408.],\n",
       "        [ 34.,  24.,   0., 311., 408.]],\n",
       "\n",
       "       [[ 44.,  31.,  37., 238.,  89.],\n",
       "        [ 44.,  31.,  37., 238.,  89.],\n",
       "        [ 44.,  31.,  37., 238.,  89.],\n",
       "        ...,\n",
       "        [ 34.,  24.,   0., 311., 408.],\n",
       "        [ 34.,  24.,   0., 311., 408.],\n",
       "        [ 34.,  24.,   0., 311., 408.]],\n",
       "\n",
       "       [[ 44.,  31.,  37., 238.,  89.],\n",
       "        [ 44.,  31.,  37., 238.,  89.],\n",
       "        [ 44.,  31.,  37., 238.,  89.],\n",
       "        ...,\n",
       "        [ 34.,  24.,   0., 311., 408.],\n",
       "        [ 34.,  24.,   0., 311., 408.],\n",
       "        [ 34.,  24.,   0., 311., 408.]]])"
      ]
     },
     "execution_count": 5,
     "metadata": {},
     "output_type": "execute_result"
    }
   ],
   "source": [
    "d5"
   ]
  },
  {
   "cell_type": "code",
   "execution_count": null,
   "metadata": {},
   "outputs": [],
   "source": []
  }
 ],
 "metadata": {
  "kernelspec": {
   "display_name": "Python 3",
   "language": "python",
   "name": "python3"
  },
  "language_info": {
   "codemirror_mode": {
    "name": "ipython",
    "version": 3
   },
   "file_extension": ".py",
   "mimetype": "text/x-python",
   "name": "python",
   "nbconvert_exporter": "python",
   "pygments_lexer": "ipython3",
   "version": "3.7.3"
  }
 },
 "nbformat": 4,
 "nbformat_minor": 2
}
