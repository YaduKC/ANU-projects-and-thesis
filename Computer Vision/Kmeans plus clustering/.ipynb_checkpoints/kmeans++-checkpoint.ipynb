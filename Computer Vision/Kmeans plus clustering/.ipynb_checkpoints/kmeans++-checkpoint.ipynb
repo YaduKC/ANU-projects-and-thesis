{
 "cells": [
  {
   "cell_type": "code",
   "execution_count": 2,
   "metadata": {},
   "outputs": [],
   "source": [
    "import PIL\n",
    "from PIL import Image\n",
    "import matplotlib.pyplot as plt\n",
    "import random\n",
    "import numpy as np\n",
    "from skimage import color"
   ]
  },
  {
   "cell_type": "code",
   "execution_count": 3,
   "metadata": {},
   "outputs": [],
   "source": [
    "#convert 48 bit pepper.png to 24 bit\n",
    "im_48 = Image.open('peppers.png')\n",
    "num_color_shade = 2 ** 24\n",
    "im_24 = im_48.convert( palette=Image.ADAPTIVE, colors=num_color_shade)\n",
    "ds_1 = np.array(im_24)\n",
    "ds_2 = np.array(Image.open('mandm.png'))\n",
    "#im_24.save('24_bit.png')"
   ]
  },
  {
   "cell_type": "code",
   "execution_count": 7,
   "metadata": {},
   "outputs": [
    {
     "data": {
      "image/png": "[encoded data removed]",
      "text/plain": [
       "<Figure size 432x288 with 1 Axes>"
      ]
     },
     "metadata": {
      "needs_background": "light"
     },
     "output_type": "display_data"
    }
   ],
   "source": [
    "def my_kmeans(ds,k):\n",
    "    \n",
    "    lab = color.rgb2lab(ds) #convert rgb to lab\n",
    "    ax = np.zeros(shape = (lab.shape[0],lab.shape[1],5)) #create empty array with 5 dimension to store l, a, b, x, and y\n",
    "\n",
    "    #fill ax with l, a, b, x, and y features\n",
    "    for i in range(ax.shape[0]):\n",
    "        for j in range(ax.shape[1]):\n",
    "            ax[i,j,0] = lab[i,j,0]\n",
    "            ax[i,j,1] = lab[i,j,1]\n",
    "            ax[i,j,2] = lab[i,j,2]\n",
    "            ax[i,j,3] = i;\n",
    "            ax[i,j,4] = j;\n",
    "    \n",
    "    max_iter = 5 # Number of k means iteration\n",
    "    keys = [] # Keys to access elements in a cluster\n",
    "    cent = np.zeros((k,ax.shape[2])) # Centroids are stored in variable cent\n",
    "    cent[0] = random.choice(random.choice(ax))#randomly select first initial centroid\n",
    "    \n",
    "    # Applying kmeans ++ centroid initialization algorithm\n",
    "    for i in range(1,k):\n",
    "        d = []\n",
    "        for j in range(ax.shape[0]):\n",
    "            for l in range(ax.shape[1]):\n",
    "                dist = []\n",
    "                for m in range(i):\n",
    "                    dist.append(np.sum((cent[m]-ax[j,l])**2)) # Find distance of pixel to already calculated centroids\n",
    "                d.append(np.min(dist))# Find the minimum distance\n",
    "        prob = d/np.sum(d) # Convert all distance to probabilities\n",
    "        cp = np.cumsum(prob) # FInd cumilative probabilities\n",
    "        cp = cp.reshape(ax.shape[0],ax.shape[1])\n",
    "        r = random.random() # Select a random number between 0 and 1\n",
    "        # Select a point whose probability is just greater than r and assign it as new centroid\n",
    "        index_x = np.where(cp>r)[0][0]\n",
    "        index_y = np.where(cp>r)[1][0]\n",
    "        cent[i] = ax[index_x,index_y]\n",
    "\n",
    "    for i in range(k):\n",
    "        keys.append(i)\n",
    "    # loop 10 times(approximately loop till convergence)\n",
    "    for iter in range(max_iter):\n",
    "        cluster = {k: [] for k in keys}\n",
    "        # find pixels that belong to closest centroid\n",
    "        for i in range(ax.shape[0]):\n",
    "            for j in range(ax.shape[1]):\n",
    "                cp = ax[i,j]\n",
    "                temp_dist = float('inf')\n",
    "                counter = 0\n",
    "                index = 0\n",
    "                for k in cent:\n",
    "                    # calculate distance from current point to all centroid\n",
    "                    dist = np.sum((cp - k) ** 2)\n",
    "                    if dist < temp_dist:\n",
    "                        temp_dist = dist\n",
    "                        index = counter\n",
    "                    counter = counter + 1\n",
    "                # Assign point to the cluster\n",
    "                if iter != max_iter-1:\n",
    "                    cluster[index].append(cp)\n",
    "                else:\n",
    "                    cluster[index].append([i,j])\n",
    "        c_k = cluster.keys()\n",
    "        c = 0\n",
    "        # recompute cluster centroids\n",
    "        if iter != max_iter-1:\n",
    "            for i in c_k:\n",
    "                m = np.mean(cluster[i],axis = 0)\n",
    "                cent[c] = m\n",
    "                c += 1\n",
    "    # Assign color of centroid to all points in same cluster for visual representation\n",
    "    for i in c_k:\n",
    "        for j in cluster[i]:\n",
    "            ax[j[0],j[1]] = cent[i].astype('int')\n",
    "                \n",
    "    plt.imshow(color.lab2rgb(ax[:,:,0:3])) #convert lab to rgb and display\n",
    "        \n",
    "my_kmeans(ds_1,10)"
   ]
  },
  {
   "cell_type": "code",
   "execution_count": null,
   "metadata": {},
   "outputs": [],
   "source": []
  }
 ],
 "metadata": {
  "kernelspec": {
   "display_name": "Python 3",
   "language": "python",
   "name": "python3"
  },
  "language_info": {
   "codemirror_mode": {
    "name": "ipython",
    "version": 3
   },
   "file_extension": ".py",
   "mimetype": "text/x-python",
   "name": "python",
   "nbconvert_exporter": "python",
   "pygments_lexer": "ipython3",
   "version": "3.7.3"
  }
 },
 "nbformat": 4,
 "nbformat_minor": 2
}
