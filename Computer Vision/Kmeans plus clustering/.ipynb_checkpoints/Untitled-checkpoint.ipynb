{
 "cells": [
  {
   "cell_type": "code",
   "execution_count": 2,
   "metadata": {},
   "outputs": [],
   "source": [
    "import PIL\n",
    "from PIL import Image\n",
    "import matplotlib.pyplot as plt\n",
    "import random\n",
    "import numpy as np"
   ]
  },
  {
   "cell_type": "code",
   "execution_count": 3,
   "metadata": {},
   "outputs": [],
   "source": [
    "#convert 48 bit pepper.png to 24 bit\n",
    "im_48 = Image.open('peppers.png')\n",
    "num_color_shade = 2 ** 24\n",
    "im_24 = im_48.convert( palette=Image.ADAPTIVE, colors=num_color_shade)\n",
    "ds = np.array(im_24)\n",
    "#im_24.save('24_bit.png')"
   ]
  },
  {
   "cell_type": "code",
   "execution_count": 8,
   "metadata": {
    "scrolled": true
   },
   "outputs": [],
   "source": [
    "def k_means(k,ds):\n",
    "    keys = [] # keys to access cluster centroid\n",
    "    cent = np.zeros((k,3)) # centroids are stored in variable cent\n",
    "    # Assign random center\n",
    "    for i in range(k): \n",
    "        cent[i] = random.choice(random.choice(ds))\n",
    "        keys.append(i)\n",
    "    # loop 10 times(approximately loop till convergence)\n",
    "    for iter in range(10):\n",
    "        cluster = {k: [] for k in keys}\n",
    "        # find pixels that belong to closest centroid\n",
    "        for i in range(ds.shape[0]):\n",
    "            for j in range(ds.shape[1]):\n",
    "                cp = ds[i,j] #current pixel\n",
    "                temp_dist = float('inf')\n",
    "                counter = 0\n",
    "                index = 0\n",
    "                for k in cent:\n",
    "                    # calculate distance from current point to all centroid\n",
    "                    dist = (cp[0]-k[0])**2 + (cp[1]-k[1])**2 + (cp[2]-k[2])**2\n",
    "                    if dist < temp_dist:\n",
    "                        temp_dist = dist\n",
    "                        index = counter\n",
    "                    counter = counter + 1\n",
    "                # Assign point to the cluster\n",
    "                if iter != 9:\n",
    "                    cluster[index].append(cp)\n",
    "                else:\n",
    "                    cluster[index].append([i,j])\n",
    "        kk = cluster.keys()\n",
    "        c = 0\n",
    "        # recompute cluster centroids\n",
    "        if iter != 9:\n",
    "            for i in kk:\n",
    "                m = np.mean(cluster[i],axis = 0)\n",
    "                cent[c] = m\n",
    "                c += 1\n",
    "    # Assign color of centroid to all points in same cluster for visual representation\n",
    "    for i in kk:\n",
    "        for j in cluster[i]:\n",
    "            ds[j[0],j[1]] = cent[i].astype('int')\n",
    "    plt.imshow(ds)"
   ]
  },
  {
   "cell_type": "code",
   "execution_count": 9,
   "metadata": {},
   "outputs": [
    {
     "name": "stdout",
     "output_type": "stream",
     "text": [
      "0\n"
     ]
    },
    {
     "name": "stderr",
     "output_type": "stream",
     "text": [
      "C:\\Users\\yadu k\\Anaconda3\\lib\\site-packages\\numpy\\core\\fromnumeric.py:3118: RuntimeWarning: Mean of empty slice.\n",
      "  out=out, **kwargs)\n",
      "C:\\Users\\yadu k\\Anaconda3\\lib\\site-packages\\numpy\\core\\_methods.py:85: RuntimeWarning: invalid value encountered in double_scalars\n",
      "  ret = ret.dtype.type(ret / rcount)\n"
     ]
    },
    {
     "name": "stdout",
     "output_type": "stream",
     "text": [
      "1\n",
      "2\n",
      "3\n",
      "4\n",
      "5\n",
      "6\n",
      "7\n",
      "8\n",
      "9\n"
     ]
    },
    {
     "data": {
      "image/png": "[encoded data removed]",
      "text/plain": [
       "<Figure size 432x288 with 1 Axes>"
      ]
     },
     "metadata": {
      "needs_background": "light"
     },
     "output_type": "display_data"
    }
   ],
   "source": [
    "k_means(5,ds)"
   ]
  },
  {
   "cell_type": "code",
   "execution_count": null,
   "metadata": {},
   "outputs": [],
   "source": []
  },
  {
   "cell_type": "code",
   "execution_count": null,
   "metadata": {},
   "outputs": [],
   "source": []
  }
 ],
 "metadata": {
  "kernelspec": {
   "display_name": "Python 3",
   "language": "python",
   "name": "python3"
  },
  "language_info": {
   "codemirror_mode": {
    "name": "ipython",
    "version": 3
   },
   "file_extension": ".py",
   "mimetype": "text/x-python",
   "name": "python",
   "nbconvert_exporter": "python",
   "pygments_lexer": "ipython3",
   "version": "3.7.3"
  }
 },
 "nbformat": 4,
 "nbformat_minor": 2
}
